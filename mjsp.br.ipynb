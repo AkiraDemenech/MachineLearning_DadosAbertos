{
 "cells": [
  {
   "cell_type": "code",
   "execution_count": 3,
   "id": "aa733eca-547c-4ffc-a26c-1835e016c707",
   "metadata": {
    "tags": []
   },
   "outputs": [],
   "source": [
    "import numpy as np\n",
    "from sklearn.neural_network import MLPClassifier\n",
    "import pandas\n",
    "import time\n",
    "import os\n",
    "from sklearn.metrics import r2_score, mean_squared_error, accuracy_score, recall_score, f1_score, confusion_matrix, \\\n",
    "    precision_score\n",
    "from sklearn.neighbors import KNeighborsClassifier\n",
    "from sklearn.linear_model import LinearRegression\n",
    "from sklearn.ensemble import RandomForestClassifier\n"
   ]
  },
  {
   "cell_type": "code",
   "execution_count": 4,
   "id": "7c757ffb-41a9-4481-bf3c-a3ae3fc4cfc3",
   "metadata": {
    "tags": []
   },
   "outputs": [
    {
     "name": "stdout",
     "output_type": "stream",
     "text": [
      "\n",
      "31/03/2023 11:54:21\t 2015 \t estimativa_dou_2015_20150915.xls\n",
      "31/03/2023 11:54:21 \tReading file....\n",
      "31/03/2023 11:54:21 \t 41 raw rows in 98.893761 ms\n",
      "31/03/2023 11:54:21 \tEstimativa: 'Unnamed: 2'\n",
      "31/03/2023 11:54:21 \tUF: 'Unnamed: 0'\n",
      "\n",
      "31/03/2023 11:54:21\t 2018 \t estimativa_dou_2018_20181019.xls\n",
      "31/03/2023 11:54:21 \tReading file....\n",
      "31/03/2023 11:54:21 \t 40 raw rows in 63.018328 ms\n",
      "31/03/2023 11:54:21 \tEstimativa: 'Unnamed: 2'\n",
      "31/03/2023 11:54:21 \tUF: 'ESTIMATIVAS DA POPULAÇÃO RESIDENTE NO BRASIL E UNIDADES DA FEDERAÇÃO COM DATA DE REFERÊNCIA EM 1º DE JULHO DE 2018'\n",
      "\n",
      "31/03/2023 11:54:21\t None \t indicadoressegurancapublicauf.xls\n",
      "\n",
      "31/03/2023 11:54:21\t 2019 \t estimativa_dou_2019.xls\n",
      "31/03/2023 11:54:21 \tReading file....\n",
      "31/03/2023 11:54:21 \t 41 raw rows in 70.941164 ms\n",
      "31/03/2023 11:54:21 \tEstimativa: 'Unnamed: 2'\n",
      "31/03/2023 11:54:21 \tUF: 'ESTIMATIVAS DA POPULAÇÃO RESIDENTE NO BRASIL E UNIDADES DA FEDERAÇÃO COM DATA DE REFERÊNCIA EM 1º DE JULHO DE 2019'\n",
      "\n",
      "31/03/2023 11:54:21\t 2021 \t estimativa_dou_2021.xls\n",
      "31/03/2023 11:54:21 \tReading file....\n",
      "31/03/2023 11:54:22 \t 41 raw rows in 75.235841 ms\n",
      "31/03/2023 11:54:22 \tEstimativa: 'Unnamed: 2'\n",
      "31/03/2023 11:54:22 \tUF: 'ESTIMATIVAS DA POPULAÇÃO RESIDENTE NO BRASIL E UNIDADES DA FEDERAÇÃO COM DATA DE REFERÊNCIA EM 1º DE JULHO DE 2021'\n",
      "\n",
      "31/03/2023 11:54:22\t 2017 \t estimativa_dou_2017.xls\n",
      "31/03/2023 11:54:22 \tReading file....\n",
      "31/03/2023 11:54:22 \t 39 raw rows in 76.539083 ms\n",
      "31/03/2023 11:54:22 \tEstimativa: 'Unnamed: 2'\n",
      "31/03/2023 11:54:22 \tUF: 'ESTIMATIVAS DA POPULAÇÃO RESIDENTE NO BRASIL E UNIDADES DA FEDERAÇÃO COM DATA DE REFERÊNCIA EM 1º DE JULHO DE 2017'\n",
      "\n",
      "31/03/2023 11:54:22\t 2016 \t estimativa_dou_2016_20160913.xls\n",
      "31/03/2023 11:54:22 \tReading file....\n",
      "31/03/2023 11:54:22 \t 41 raw rows in 102.197559 ms\n",
      "31/03/2023 11:54:22 \tEstimativa: 'Unnamed: 2'\n",
      "31/03/2023 11:54:22 \tUF: 'Unnamed: 0'\n",
      "\n",
      "31/03/2023 11:54:22\t 2020 \t estimativa_dou_2020.xls\n",
      "31/03/2023 11:54:22 \tReading file....\n",
      "31/03/2023 11:54:22 \t 41 raw rows in 150.57017 ms\n",
      "31/03/2023 11:54:22 \tUF: 'ESTIMATIVAS DA POPULAÇÃO RESIDENTE NO BRASIL E UNIDADES DA FEDERAÇÃO COM DATA DE REFERÊNCIA EM 1º DE JULHO DE 2020'\n",
      "31/03/2023 11:54:22 \tEstimativa: 'Unnamed: 2'\n",
      "\n",
      "31/03/2023 11:54:22\t 1 \t indicadoressegurancapublicauf (1).xls\n"
     ]
    }
   ],
   "source": [
    "first_number = lambda s, end=1: ((first_number(s, end + 1) if end < len(s) and s[end].isdigit() else int(s[:end])) if s[\n",
    "    0].isdigit() else first_number(s[1:])) if len(s) else None\n",
    "\n",
    "estados = {'Amapá': 26, 'Roraima': 25, 'Rondônia': 23, 'Tocantins': 19, 'Pará': 20, 'Acre': 24, 'Amazonas': 22,\n",
    "           'Paraíba': 14, 'Piauí': 17, 'Pernambuco': 13, 'Bahia': 10, 'Alagoas': 12, 'Rio Grande do Norte': 15, 'Ceará': 16, 'Sergipe': 11, 'Maranhão': 18,\n",
    "           'Mato Grosso do Sul': 4, 'Goiás': 6, 'Mato Grosso': 21, 'Distrito Federal': 6,\n",
    "           'Minas Gerais': 7, 'Rio de Janeiro': 8, 'Espírito Santo': 9, 'São Paulo': 5,\n",
    "           'Santa Catarina': 2, 'Rio Grande do Sul': 1, 'Paraná': 3}\n",
    "estados.update({estados[uf]: uf for uf in estados})\n",
    "months = {\n",
    "    'janeiro': 1,\n",
    "    'fevereiro': 2,\n",
    "    'março': 3,\n",
    "    'abril': 4,\n",
    "    'maio': 5,\n",
    "    'junho': 6,\n",
    "    'julho': 7,\n",
    "    'agosto': 8,\n",
    "    'setembro': 9,\n",
    "    'outubro': 10,\n",
    "    'novembro': 11,\n",
    "    'dezembro': 12\n",
    "}\n",
    "months.update({months[m]: m for m in months})\n",
    "\n",
    "sex = {'Total': 0,\n",
    "       'Sexo NI': 1,\n",
    "       'Masculino': 2,\n",
    "       'Feminino': 3}\n",
    "sex.update({sex[s]: s for s in sex})\n",
    "\n",
    "gap = lambda predicted, correct: 1 - (predicted / correct)\n",
    "avg_gap = lambda predicted, correct: sum(gap(predicted[i], correct[i]) for i in range(len(correct))) / len(correct)\n",
    "def sd_gap (predicted, correct):\n",
    "\tavg = avg_gap(predicted, correct)\n",
    "\treturn (sum((avg - gap(predicted[i], correct[i]))**2 for i in range(len(correct)))/len(correct))**0.5\n",
    "\n",
    "crime_convert = lambda cr, crime_list: crime_list[cr] if type(cr) == int else crime_list.index(cr)\n",
    "\n",
    "timestamp = lambda lt=None: timestamp(time.localtime()) if lt is None else (lt[2::-1] + lt[3:6])\n",
    "s_timestamp = lambda t=None: s_timestamp(timestamp()) if t is None else '%02d/%02d/%d %02d:%02d:%02d' % t\n",
    "\n",
    "folder = './dados/'\n",
    "\n",
    "\n",
    "def ibge(caminho=folder):\n",
    "    ibge = {}\n",
    "    raw_ibge = {}\n",
    "\n",
    "    for arq in os.listdir(caminho):\n",
    "        if arq.strip().lower().endswith('.xls'):\n",
    "\n",
    "            ano = first_number(arq)\n",
    "            print('\\n' + s_timestamp() + '\\t', ano, '\\t', arq)\n",
    "\n",
    "            if ano is None or ano < 1000:\n",
    "                continue\n",
    "\n",
    "            print(s_timestamp(), '\\tReading file....')\n",
    "\n",
    "            i = time.time_ns()\n",
    "            raw_ibge[ano] = pandas.read_excel(pandas.ExcelFile(caminho + arq), 'BRASIL E UFs')\n",
    "            f = time.time_ns()\n",
    "\n",
    "            print(s_timestamp(), '\\t', len(raw_ibge[ano]), 'raw rows in', (f - i) / 1000000, 'ms')\n",
    "\n",
    "            ibge[ano] = {}\n",
    "            uf_col = pop_col = []\n",
    "\n",
    "            for col in set(raw_ibge[ano]):\n",
    "                t = n = 0\n",
    "                dados = []\n",
    "                for i in range(len(raw_ibge[ano][col])):\n",
    "                    if type(raw_ibge[ano][col][i]) == str:\n",
    "                        t += 1\n",
    "                    elif type(raw_ibge[ano][col][i]) == int:\n",
    "                        n += 1\n",
    "                    dados.append(raw_ibge[ano][col][i])\n",
    "\n",
    "                if t > n:\n",
    "                    print(s_timestamp(), '\\tUF:', repr(col))\n",
    "                    uf_col = dados\n",
    "                elif n > 0 and t > 0:\n",
    "                    print(s_timestamp(), '\\tEstimativa:', repr(col))\n",
    "                    pop_col = [(first_number(valor.strip().replace('.', '')) if type(valor) == str else valor) for valor\n",
    "                               in dados]\n",
    "\n",
    "            for i in range(len(pop_col)):\n",
    "                if pop_col[i] is None or type(pop_col[i]) == float or type(uf_col[i]) == float:\n",
    "                    continue\n",
    "\n",
    "                ibge[ano][uf_col[i].strip()] = pop_col[i]\n",
    "\n",
    "    return ibge, raw_ibge\n",
    "\n",
    "\n",
    "def seg_pub(arq=folder + 'indicadoressegurancapublicauf (1).xls', ibge_pop=None, full_pop=False,\n",
    "            test_time={(2021, 10), (2021, 11), (2021, 12)}):\n",
    "    if ibge_pop == None:\n",
    "        ibge_pop = ibge()[0]\n",
    "\n",
    "    testes = []\n",
    "    seg_pub = []\t# dados do treinamento\n",
    "    seg_pub_xls = pandas.ExcelFile(arq)\n",
    "    ocorr = pandas.read_excel(seg_pub_xls, 'Ocorrências')\n",
    "    vitim = pandas.read_excel(seg_pub_xls, 'Vítimas')\n",
    "\n",
    "    crimes = list(set(vitim['Tipo Crime']).union(set(ocorr['Tipo Crime'])))\n",
    "    crimes.sort()\n",
    "\n",
    "    for i in range(len(ocorr)):\n",
    "\n",
    "        crime = ocorr['Tipo Crime'][i]\n",
    "        ano = ocorr['Ano'][i]\n",
    "        mes = months[ocorr['Mês'][i].strip().lower()]\n",
    "        uf = ocorr['UF'][i]\n",
    "        ln = {}\n",
    "\n",
    "        if ano not in ibge_pop:\n",
    "            continue\n",
    "\n",
    "        if full_pop:\n",
    "            ln.update(ibge_pop[ano])\n",
    "        else:\n",
    "            ln['Pop'] = ibge_pop[ano][uf]\n",
    "\n",
    "        dados = testes if (ano, mes) in test_time else seg_pub\n",
    "        dados.append(ln)\n",
    "\n",
    "        ln['UF'] = estados[uf]\n",
    "        ln['Crime'] = crime_convert(crime, crimes)\n",
    "        ln['Sexo'] = sex['Total']\n",
    "\n",
    "        ln['Ano'] = ano\n",
    "        ln['Mês'] = mes\n",
    "        ln['Ocorrências'] = ocorr['Ocorrências'][i]\n",
    "\n",
    "    for i in range(len(vitim)):\n",
    "        crime = vitim['Tipo Crime'][i]\n",
    "        sexo = vitim['Sexo da Vítima'][i]\n",
    "        mes = months[vitim['Mês'][i].strip().lower()]\n",
    "        ano = vitim['Ano'][i]\n",
    "        uf = vitim['UF'][i]\n",
    "\n",
    "        ln = {}\n",
    "\n",
    "        if not ano in ibge_pop:\n",
    "            continue\n",
    "        if full_pop:\n",
    "            ln.update(ibge_pop[ano])\n",
    "        else:\n",
    "            ln['Pop'] = ibge_pop[ano][uf]\n",
    "\n",
    "        dados = testes if (ano, mes) in test_time else seg_pub\n",
    "        dados.append(ln)\n",
    "\n",
    "        ln['UF'] = estados[uf]\n",
    "        ln['Crime'] = crime_convert(crime, crimes)\n",
    "        ln['Sexo'] = sex[sexo]\n",
    "        ln['Ano'] = ano\n",
    "        ln['Mês'] = mes\n",
    "        ln['Ocorrências'] = vitim['Vítimas'][i]\n",
    "\n",
    "    return seg_pub, testes, crimes\n",
    "\n",
    "def crimes_por_estado (dados):\n",
    "    c = {}\n",
    "    d = []\n",
    "    for ln in dados:\n",
    "        if not ln['UF'] in c:\n",
    "            c[ln['UF']] = {}\n",
    "        if not ln['Ano'] in c[ln['UF']]:     \n",
    "            c[ln['UF']][ln['Ano']] = {}\n",
    "        if not ln['Mês'] in c[ln['UF']][ln['Ano']]:     \n",
    "            c[ln['UF']][ln['Ano']][ln['Mês']] = {}\n",
    "        if not ln['Sexo'] in c[ln['UF']][ln['Ano']][ln['Mês']]:    \n",
    "            c[ln['UF']][ln['Ano']][ln['Mês']][ln['Sexo']] = {}\n",
    "\n",
    "        if ln['Crime'] in c[ln['UF']][ln['Ano']][ln['Mês']][ln['Sexo']]:    \n",
    "            c[ln['UF']][ln['Ano']][ln['Mês']][ln['Sexo']][ln['Crime']]['Ocorrências'] += ln['Ocorrências']\n",
    "        else:    \n",
    "            ln = dict(ln)\n",
    "            d.append(ln)\n",
    "            c[ln['UF']][ln['Ano']][ln['Mês']][ln['Sexo']][ln['Crime']] = ln\n",
    "            ln.pop('Crime')\n",
    "    return d        \n",
    "\n",
    "dados, testes, tipos = seg_pub()\n",
    "\n",
    "#'''# soma todas as ocorrências de cada crime em um mesmo UF, Ano, Mês e Sexo\n",
    "dados = crimes_por_estado(dados)\n",
    "testes = crimes_por_estado(testes)\n",
    "#'''\n",
    "\n",
    "def resultados_numericos(corretos, preditos):\n",
    "    corretos_num = []\n",
    "    preditos_num = []\n",
    "    for i in range(len(corretos)):\n",
    "        corretos_num.append(corretos[i][-1][0])\n",
    "        preditos_num.append(preditos[i][-1][0] if abs(preditos[i][-1][0] / (corretos[i][-1][0] + 10) - 1) > 0.1 else corretos[i][-1][0])\n",
    "    return corretos_num, preditos_num\n"
   ]
  },
  {
   "cell_type": "code",
   "execution_count": 6,
   "id": "8d8f7392-ff69-4a2f-a7af-bed4d1773f63",
   "metadata": {
    "tags": []
   },
   "outputs": [],
   "source": [
    "def treinar_testar(model, data, test, types, y_cols=['Ocorrências'], normalize = False):\n",
    "    print(s_timestamp(), 'Training....', model)\n",
    "\n",
    "\n",
    "    correct = []\n",
    "    predicted = []\n",
    "\n",
    "    x = []\n",
    "    y = []\n",
    "\n",
    "    x_cols = [c for c in data[0] if c not in y_cols]\n",
    "    max_values = {c: (max(ln[c] for ln in data) if normalize else 1) for c in data[0]}\n",
    "\n",
    "    #print(x_cols, '\\t', y_cols)\n",
    "    for ln in data:\n",
    "        x.append([ln[c]/max_values[c] for c in x_cols])\n",
    "        y.append([ln[c]/max_values[c] for c in y_cols])\n",
    "\n",
    "    ti = time.time_ns()\n",
    "    model.fit(x,np.array(y).ravel())\n",
    "    tf = time.time_ns()\n",
    "\n",
    "    print(s_timestamp(), (tf - ti) / 1000000, 'ms')\n",
    "\n",
    "    ti = time.time_ns()\n",
    "        # Crime,Sexo,Pop,Ano,Mês -> Ocorrências\n",
    "    for ln in test:\n",
    "        x = [ln[c]/max_values[c] for c in x_cols]\n",
    "        p = model.predict([x])\n",
    "        y = [p[i]*max_values[y_cols[i]] for i in range(len(y_cols))]\n",
    "        t = [ln[c]*max_values[c] for c in y_cols]\n",
    "\n",
    "        crime = sexo = uf = ''\n",
    "        if not normalize:\n",
    "            '''\n",
    "            crime = crime_convert(x[x_cols.index('Crime')], types)\n",
    "            sexo = sex[x[x_cols.index('Sexo')]]\n",
    "            uf = estados[x[x_cols.index('UF')]]\n",
    "            #'''\n",
    "\n",
    "        # [contexto], [entrada], [saída]\n",
    "        correct.append(([uf, crime, sexo], x, t))\n",
    "        predicted.append(([uf, crime, sexo], x, y))\n",
    "    tf = time.time_ns()\n",
    "\n",
    "    print(s_timestamp(), 'Testing for', (tf - ti) / 1000000, 'ms')\n",
    "\n",
    "    return correct, predicted\n"
   ]
  },
  {
   "cell_type": "code",
   "execution_count": 7,
   "id": "0085b884-eaa2-42a2-86ae-39732ae70510",
   "metadata": {
    "tags": []
   },
   "outputs": [
    {
     "name": "stdout",
     "output_type": "stream",
     "text": [
      "31/03/2023 11:54:27 Training.... LinearRegression()\n",
      "31/03/2023 11:54:27 42.571723 ms\n",
      "31/03/2023 11:54:27 Testing for 75.62998 ms\n"
     ]
    }
   ],
   "source": [
    "corretos, preditos = treinar_testar(LinearRegression(), dados, testes, tipos)\n",
    "num_corretos, num_preditos = resultados_numericos(corretos, preditos)"
   ]
  },
  {
   "cell_type": "code",
   "execution_count": 11,
   "id": "e3fb13ca-4b36-4a3c-bc41-adeb70d874c1",
   "metadata": {
    "tags": []
   },
   "outputs": [
    {
     "data": {
      "text/plain": [
       "0.10076054005978385"
      ]
     },
     "execution_count": 11,
     "metadata": {},
     "output_type": "execute_result"
    }
   ],
   "source": [
    "r2_score(num_corretos, num_preditos)"
   ]
  },
  {
   "cell_type": "code",
   "execution_count": 12,
   "id": "c2f25eb1-7155-47f5-afb1-d3f9b945a5f9",
   "metadata": {
    "tags": []
   },
   "outputs": [
    {
     "data": {
      "text/plain": [
       "147448.67044274826"
      ]
     },
     "execution_count": 12,
     "metadata": {},
     "output_type": "execute_result"
    }
   ],
   "source": [
    "mean_squared_error(num_corretos, num_preditos)"
   ]
  },
  {
   "cell_type": "code",
   "execution_count": 13,
   "id": "2108f8e9-6c52-4d21-8218-777f2c3374d2",
   "metadata": {
    "tags": []
   },
   "outputs": [
    {
     "name": "stdout",
     "output_type": "stream",
     "text": [
      "31/03/2023 11:47:13 Training.... KNeighborsClassifier(n_neighbors=3)\n",
      "31/03/2023 11:47:13 36.235011 ms\n",
      "31/03/2023 11:47:13 Testing for 594.072593 ms\n"
     ]
    }
   ],
   "source": [
    "corretos, preditos = treinar_testar(KNeighborsClassifier(n_neighbors=3), dados, testes, tipos)\n",
    "num_corretos, num_preditos = resultados_numericos(corretos, preditos)"
   ]
  },
  {
   "cell_type": "code",
   "execution_count": 14,
   "id": "d2203217-ec22-4511-aabf-ecfb88dcce7b",
   "metadata": {
    "tags": []
   },
   "outputs": [
    {
     "data": {
      "text/plain": [
       "array([[390,  27,   2, ...,   0,   0,   0],\n",
       "       [ 86,  23,   4, ...,   0,   0,   0],\n",
       "       [ 43,  10,   3, ...,   0,   0,   0],\n",
       "       ...,\n",
       "       [  0,   0,   0, ...,   0,   0,   0],\n",
       "       [  0,   0,   0, ...,   0,   0,   0],\n",
       "       [  0,   0,   0, ...,   0,   0,   0]])"
      ]
     },
     "execution_count": 14,
     "metadata": {},
     "output_type": "execute_result"
    }
   ],
   "source": [
    "confusion_matrix(num_corretos, num_preditos)"
   ]
  },
  {
   "cell_type": "code",
   "execution_count": 15,
   "id": "c105abce-8852-4cd5-b987-2d9fd0c2e474",
   "metadata": {
    "tags": []
   },
   "outputs": [
    {
     "data": {
      "text/plain": [
       "0.31165117941386705"
      ]
     },
     "execution_count": 15,
     "metadata": {},
     "output_type": "execute_result"
    }
   ],
   "source": [
    "accuracy_score(num_corretos, num_preditos)"
   ]
  },
  {
   "cell_type": "code",
   "execution_count": 16,
   "id": "6507d200-8e43-40e8-a449-d15e27408b6c",
   "metadata": {
    "tags": []
   },
   "outputs": [
    {
     "data": {
      "text/plain": [
       "0.31165117941386705"
      ]
     },
     "execution_count": 16,
     "metadata": {},
     "output_type": "execute_result"
    }
   ],
   "source": [
    "precision_score(num_corretos, num_preditos, average=\"micro\")"
   ]
  },
  {
   "cell_type": "code",
   "execution_count": 17,
   "id": "dbbd78a7-13a8-4dd9-b8ba-50d80842c794",
   "metadata": {
    "tags": []
   },
   "outputs": [
    {
     "data": {
      "text/plain": [
       "0.31165117941386705"
      ]
     },
     "execution_count": 17,
     "metadata": {},
     "output_type": "execute_result"
    }
   ],
   "source": [
    "recall_score(num_corretos, num_preditos, average=\"micro\")"
   ]
  },
  {
   "cell_type": "code",
   "execution_count": 18,
   "id": "9b380d88-0bea-4406-8e39-3ffb3ac74a60",
   "metadata": {
    "tags": []
   },
   "outputs": [
    {
     "data": {
      "text/plain": [
       "0.31165117941386705"
      ]
     },
     "execution_count": 18,
     "metadata": {},
     "output_type": "execute_result"
    }
   ],
   "source": [
    "f1_score(num_corretos, num_preditos, average=\"micro\")"
   ]
  },
  {
   "cell_type": "code",
   "execution_count": 19,
   "id": "d32bf11d-dad5-48ae-b805-f605b2299e0a",
   "metadata": {
    "tags": []
   },
   "outputs": [
    {
     "name": "stdout",
     "output_type": "stream",
     "text": [
      "31/03/2023 11:48:34 Training.... MLPClassifier()\n",
      "31/03/2023 11:52:48 253555.206785 ms\n",
      "31/03/2023 11:52:48 Testing for 253.009711 ms\n"
     ]
    }
   ],
   "source": [
    "corretos, preditos = treinar_testar(MLPClassifier(), dados, testes, tipos, normalize=False)\n",
    "num_corretos, num_preditos = resultados_numericos(corretos, preditos)"
   ]
  },
  {
   "cell_type": "code",
   "execution_count": 27,
   "id": "894792f7-ef1e-43ea-ad07-a310aee11368",
   "metadata": {
    "tags": []
   },
   "outputs": [
    {
     "data": {
      "text/plain": [
       "array([[457,   0,   0, ...,   0,   0,   0],\n",
       "       [136,   0,   0, ...,   0,   0,   0],\n",
       "       [ 78,   0,   0, ...,   0,   0,   0],\n",
       "       ...,\n",
       "       [  1,   0,   0, ...,   0,   0,   0],\n",
       "       [  1,   0,   0, ...,   0,   0,   0],\n",
       "       [  1,   0,   0, ...,   0,   0,   0]])"
      ]
     },
     "execution_count": 27,
     "metadata": {},
     "output_type": "execute_result"
    }
   ],
   "source": [
    "confusion_matrix(num_corretos, num_preditos)"
   ]
  },
  {
   "cell_type": "code",
   "execution_count": 28,
   "id": "92a99b70-fa9a-4481-bc16-57cf1e35f80f",
   "metadata": {
    "tags": []
   },
   "outputs": [
    {
     "data": {
      "text/plain": [
       "0.32666190135811296"
      ]
     },
     "execution_count": 28,
     "metadata": {},
     "output_type": "execute_result"
    }
   ],
   "source": [
    "accuracy_score(num_corretos, num_preditos)"
   ]
  },
  {
   "cell_type": "code",
   "execution_count": 29,
   "id": "4389f3f1-321a-46a9-bb18-9b4f251e53fb",
   "metadata": {
    "tags": []
   },
   "outputs": [
    {
     "data": {
      "text/plain": [
       "0.32666190135811296"
      ]
     },
     "execution_count": 29,
     "metadata": {},
     "output_type": "execute_result"
    }
   ],
   "source": [
    "precision_score(num_corretos, num_preditos, average=\"micro\")"
   ]
  },
  {
   "cell_type": "code",
   "execution_count": 30,
   "id": "4d19c13a-532b-4cc4-b925-b1736aa21d54",
   "metadata": {
    "tags": []
   },
   "outputs": [
    {
     "data": {
      "text/plain": [
       "0.32666190135811296"
      ]
     },
     "execution_count": 30,
     "metadata": {},
     "output_type": "execute_result"
    }
   ],
   "source": [
    "recall_score(num_corretos, num_preditos, average=\"micro\")"
   ]
  },
  {
   "cell_type": "code",
   "execution_count": 31,
   "id": "0ee7b6d8-511a-43a9-a687-1c716607749f",
   "metadata": {
    "tags": []
   },
   "outputs": [
    {
     "data": {
      "text/plain": [
       "0.32666190135811296"
      ]
     },
     "execution_count": 31,
     "metadata": {},
     "output_type": "execute_result"
    }
   ],
   "source": [
    "f1_score(num_corretos, num_preditos, average=\"micro\")"
   ]
  },
  {
   "cell_type": "code",
   "execution_count": 2,
   "id": "04f42d2c-7046-4530-a7be-275d2ae22259",
   "metadata": {
    "tags": []
   },
   "outputs": [
    {
     "ename": "NameError",
     "evalue": "name 'treinar_testar' is not defined",
     "output_type": "error",
     "traceback": [
      "\u001b[0;31m---------------------------------------------------------------------------\u001b[0m",
      "\u001b[0;31mNameError\u001b[0m                                 Traceback (most recent call last)",
      "Cell \u001b[0;32mIn[2], line 1\u001b[0m\n\u001b[0;32m----> 1\u001b[0m corretos, preditos \u001b[38;5;241m=\u001b[39m \u001b[43mtreinar_testar\u001b[49m(RandomForestClassifier(), dados, testes, tipos)\n\u001b[1;32m      2\u001b[0m num_corretos, num_preditos \u001b[38;5;241m=\u001b[39m resultados_numericos(corretos, preditos)\n",
      "\u001b[0;31mNameError\u001b[0m: name 'treinar_testar' is not defined"
     ]
    }
   ],
   "source": [
    "corretos, preditos = treinar_testar(RandomForestClassifier(), dados, testes, tipos)\n",
    "num_corretos, num_preditos = resultados_numericos(corretos, preditos)"
   ]
  },
  {
   "cell_type": "code",
   "execution_count": 1,
   "id": "ff423259-4c33-4378-ab46-66a09d4589cf",
   "metadata": {
    "tags": []
   },
   "outputs": [
    {
     "ename": "NameError",
     "evalue": "name 'confusion_matrix' is not defined",
     "output_type": "error",
     "traceback": [
      "\u001b[0;31m---------------------------------------------------------------------------\u001b[0m",
      "\u001b[0;31mNameError\u001b[0m                                 Traceback (most recent call last)",
      "Cell \u001b[0;32mIn[1], line 1\u001b[0m\n\u001b[0;32m----> 1\u001b[0m \u001b[43mconfusion_matrix\u001b[49m(num_corretos, num_preditos)\n",
      "\u001b[0;31mNameError\u001b[0m: name 'confusion_matrix' is not defined"
     ]
    }
   ],
   "source": [
    "confusion_matrix(num_corretos, num_preditos)"
   ]
  },
  {
   "cell_type": "code",
   "execution_count": null,
   "id": "642daba8-c39c-4468-845a-97e10a96085b",
   "metadata": {},
   "outputs": [],
   "source": [
    "accuracy_score(num_corretos, num_preditos)"
   ]
  },
  {
   "cell_type": "code",
   "execution_count": null,
   "id": "cf1e67e0-62c0-4d1e-9052-3e1b196b8cc4",
   "metadata": {},
   "outputs": [],
   "source": [
    "precision_score(num_corretos, num_preditos, average=\"micro\")"
   ]
  },
  {
   "cell_type": "code",
   "execution_count": null,
   "id": "85cc5557-f85a-4879-ba20-6a2995f1fda4",
   "metadata": {},
   "outputs": [],
   "source": [
    "recall_score(num_corretos, num_preditos, average=\"micro\")"
   ]
  },
  {
   "cell_type": "code",
   "execution_count": null,
   "id": "95f67342-2f54-49a3-a05a-ab30c7a8ee82",
   "metadata": {},
   "outputs": [],
   "source": [
    "f1_score(num_corretos, num_preditos, average=\"micro\")"
   ]
  }
 ],
 "metadata": {
  "kernelspec": {
   "display_name": "Python 3 (ipykernel)",
   "language": "python",
   "name": "python3"
  },
  "language_info": {
   "codemirror_mode": {
    "name": "ipython",
    "version": 3
   },
   "file_extension": ".py",
   "mimetype": "text/x-python",
   "name": "python",
   "nbconvert_exporter": "python",
   "pygments_lexer": "ipython3",
   "version": "3.10.10"
  }
 },
 "nbformat": 4,
 "nbformat_minor": 5
}
