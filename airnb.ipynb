{
 "cells": [
  {
   "cell_type": "code",
   "execution_count": 1,
   "metadata": {
    "collapsed": true,
    "ExecuteTime": {
     "end_time": "2023-06-26T15:52:02.576434163Z",
     "start_time": "2023-06-26T15:52:02.130733395Z"
    }
   },
   "outputs": [],
   "source": [
    "\n",
    "import pandas as pd\n",
    "# import matplotlib.pyplot as plt\n",
    "from sklearn.model_selection import train_test_split\n",
    "import numpy as np\n",
    "from sklearn.metrics import r2_score, mean_squared_error, accuracy_score, recall_score, f1_score, confusion_matrix, \\\n",
    "    precision_score\n",
    "from sklearn.neighbors import KNeighborsClassifier\n",
    "from sklearn.neighbors import KNeighborsRegressor\n",
    "from sklearn.linear_model import LinearRegression\n",
    "from sklearn.ensemble import RandomForestClassifier\n",
    "from sklearn.ensemble import RandomForestRegressor"
   ]
  },
  {
   "cell_type": "code",
   "execution_count": 2,
   "outputs": [],
   "source": [
    "path = './dados/dados_airbnb'\n",
    "all_files = glob.glob(path + \"/*.csv\")\n",
    "testes = []\n",
    "treinamento = []\n",
    "datasets = []\n",
    "for filename in all_files:\n",
    "    df = pd.read_csv(filename)\n",
    "    df['room_type'] = [1 if i == 'Private room' else 0.5 if i == 'Entire home/apt' else 0 for i in df['room_type']]\n",
    "    df['is_weekend'] = ['weekends' in filename] * len(df)\n",
    "    df['city'] = filename.split('/')[-1].split('\\\\')[-1].split('_')[0].upper()\n",
    "    tr, te = train_test_split(df)\n",
    "\n",
    "    treinamento.append(tr)\n",
    "    testes.append(te)\n",
    "\n",
    "    datasets.append(df)\n"
   ],
   "metadata": {
    "collapsed": false,
    "ExecuteTime": {
     "end_time": "2023-06-26T15:52:02.715539621Z",
     "start_time": "2023-06-26T15:52:02.579065902Z"
    }
   }
  },
  {
   "cell_type": "code",
   "execution_count": null,
   "outputs": [],
   "source": [
    "# explorando os dados verificamos que existe uma corelação entre a limpeza do local e se o host é super host. quanto mais limpo, maior a nota, superhost (grande parte das vezes) significa uma média maior de nota\n",
    "index = 16\n",
    "plt.scatter(datasets[index]['realSum'], datasets[index]['guest_satisfaction_overall'])\n",
    "plt.title(datasets[index]['city'][0] + ' ' + str(datasets[4]['is_weekend'][0]))"
   ],
   "metadata": {
    "collapsed": false
   }
  },
  {
   "cell_type": "code",
   "execution_count": 3,
   "outputs": [],
   "source": [
    "todos_treinamento = pd.concat(treinamento, ignore_index=True)\n",
    "todos = pd.concat(datasets, ignore_index=True)\n",
    "todos_testes = pd.concat(testes, ignore_index=True)"
   ],
   "metadata": {
    "collapsed": false,
    "ExecuteTime": {
     "end_time": "2023-06-26T15:52:02.740317743Z",
     "start_time": "2023-06-26T15:52:02.719543389Z"
    }
   }
  },
  {
   "cell_type": "code",
   "execution_count": 5,
   "outputs": [],
   "source": [
    "def separar(dados, y_col = ['guest_satisfaction_overall'], n_x_col = ['city', 'Unnamed: 0', 'attr_index', 'attr_index_norm', 'rest_index', 'rest_index_norm',]):\n",
    "\n",
    "   x_col = [col for col in dados if col not in y_col and col not in n_x_col]\n",
    "   x = []\n",
    "   y = []\n",
    "   for i in range(len(dados)):\n",
    "       x.append([dados[c][i] for c in x_col])\n",
    "       y.append([dados[c][i] for c in y_col])\n",
    "   return x,y"
   ],
   "metadata": {
    "collapsed": false,
    "ExecuteTime": {
     "end_time": "2023-06-26T15:52:02.787515659Z",
     "start_time": "2023-06-26T15:52:02.746297738Z"
    }
   }
  },
  {
   "cell_type": "code",
   "execution_count": 6,
   "outputs": [],
   "source": [
    "def testar(modelo, x):\n",
    "    predito = []\n",
    "    for i in range(len(x)):\n",
    "        p = modelo.predict([x[i]])\n",
    "        predito.append(p)\n",
    "    return predito\n",
    "def resultados_numericos(lista):\n",
    "    try:\n",
    "        if len(lista) > 1:\n",
    "            return [resultados_numericos(i) for i in lista]\n",
    "        return resultados_numericos(lista[0])\n",
    "    except TypeError:\n",
    "        return lista\n",
    "def estrelas(sats):\n",
    "    return [(i/20).__ceil__() for i in sats ]"
   ],
   "metadata": {
    "collapsed": false,
    "ExecuteTime": {
     "end_time": "2023-06-26T15:52:02.787880769Z",
     "start_time": "2023-06-26T15:52:02.741532588Z"
    }
   }
  },
  {
   "cell_type": "code",
   "execution_count": 7,
   "outputs": [],
   "source": [
    "x_treinamento, y_treinamento = separar(todos_treinamento)\n",
    "x_testes, y_testes = separar(todos_testes)"
   ],
   "metadata": {
    "collapsed": false,
    "ExecuteTime": {
     "end_time": "2023-06-26T15:52:04.972949304Z",
     "start_time": "2023-06-26T15:52:02.787800656Z"
    }
   }
  },
  {
   "cell_type": "code",
   "execution_count": null,
   "outputs": [],
   "source": [
    "m = LinearRegression()\n",
    "m.fit(x_treinamento, y_treinamento)"
   ],
   "metadata": {
    "collapsed": false
   }
  },
  {
   "cell_type": "code",
   "execution_count": null,
   "outputs": [],
   "source": [
    "y_predito = testar(m, x_testes)\n",
    "preditos = resultados_numericos(y_predito)\n",
    "testes_corretos = resultados_numericos(y_testes)"
   ],
   "metadata": {
    "collapsed": false
   }
  },
  {
   "cell_type": "code",
   "execution_count": null,
   "outputs": [],
   "source": [
    "r2_r = r2_score(testes_corretos, preditos)\n",
    "menan_r = mean_squared_error(testes_corretos, preditos, squared=False)\n",
    "print(\"LinearRegression\")\n",
    "print(\"r2 =\", r2_r, \"\\nmenan =\", menan_r)"
   ],
   "metadata": {
    "collapsed": false
   }
  },
  {
   "cell_type": "code",
   "execution_count": null,
   "outputs": [],
   "source": [
    "m = (KNeighborsClassifier())\n",
    "m.fit(x_treinamento, np.array(y_treinamento).ravel())"
   ],
   "metadata": {
    "collapsed": false
   }
  },
  {
   "cell_type": "code",
   "execution_count": null,
   "outputs": [],
   "source": [
    "y_predito = testar(m, x_testes)\n",
    "preditos = resultados_numericos(y_predito)\n",
    "testes_corretos = resultados_numericos(y_testes)\n",
    "estrelas_preditas = estrelas(preditos)\n",
    "estrelas_corretas = estrelas(testes_corretos)"
   ],
   "metadata": {
    "collapsed": false
   }
  },
  {
   "cell_type": "code",
   "execution_count": null,
   "outputs": [],
   "source": [
    "print('\\nKNeighborsClassifier')\n",
    "ac_k = accuracy_score(estrelas_corretas, estrelas_preditas)\n",
    "print(\"Accuracy score =\", ac_k)"
   ],
   "metadata": {
    "collapsed": false
   }
  },
  {
   "cell_type": "code",
   "execution_count": null,
   "outputs": [],
   "source": [
    "m = (KNeighborsRegressor())\n",
    "m.fit(x_treinamento, np.array(y_treinamento).ravel())"
   ],
   "metadata": {
    "collapsed": false
   }
  },
  {
   "cell_type": "code",
   "execution_count": null,
   "outputs": [],
   "source": [
    "y_predito = testar(m, x_testes)\n",
    "preditos = resultados_numericos(y_predito)\n",
    "testes_corretos = resultados_numericos(y_testes)"
   ],
   "metadata": {
    "collapsed": false
   }
  },
  {
   "cell_type": "code",
   "execution_count": null,
   "outputs": [],
   "source": [
    "r2_r = r2_score(testes_corretos, preditos)\n",
    "menan_r = mean_squared_error(testes_corretos, preditos, squared=False)\n",
    "print(\"KNeighborsRegressor\")\n",
    "print(\"r2 =\", r2_r, \"\\nmenan =\", menan_r)"
   ],
   "metadata": {
    "collapsed": false
   }
  },
  {
   "cell_type": "code",
   "execution_count": null,
   "outputs": [],
   "source": [
    "m = (RandomForestClassifier())\n",
    "m.fit(x_treinamento, np.array(y_treinamento).ravel())"
   ],
   "metadata": {
    "collapsed": false
   }
  },
  {
   "cell_type": "code",
   "execution_count": null,
   "outputs": [],
   "source": [
    "y_predito = testar(m, x_testes)\n",
    "preditos = resultados_numericos(y_predito)\n",
    "testes_corretos = resultados_numericos(y_testes)\n",
    "estrelas_preditas = estrelas(preditos)\n",
    "estrelas_corretas = estrelas(testes_corretos)"
   ],
   "metadata": {
    "collapsed": false
   }
  },
  {
   "cell_type": "code",
   "execution_count": null,
   "outputs": [],
   "source": [
    "print('\\nRandomForestClassifier')\n",
    "ac_k = accuracy_score(estrelas_corretas, estrelas_preditas)\n",
    "print(\"Accuracy score =\", ac_k)"
   ],
   "metadata": {
    "collapsed": false
   }
  },
  {
   "cell_type": "code",
   "execution_count": null,
   "outputs": [],
   "source": [
    "m = (RandomForestRegressor())\n",
    "m.fit(x_treinamento, np.array(y_treinamento).ravel())"
   ],
   "metadata": {
    "collapsed": false
   }
  },
  {
   "cell_type": "code",
   "execution_count": null,
   "outputs": [],
   "source": [
    "y_predito = testar(m, x_testes)\n",
    "preditos = resultados_numericos(y_predito)\n",
    "testes_corretos = resultados_numericos(y_testes)"
   ],
   "metadata": {
    "collapsed": false
   }
  },
  {
   "cell_type": "code",
   "execution_count": null,
   "outputs": [],
   "source": [
    "print(\"\\nRandomForestRegressor\")\n",
    "r2_rr = r2_score(testes_corretos, preditos)\n",
    "menan_rr = mean_squared_error(testes_corretos, preditos, squared=False)\n",
    "print(r2_rr, menan_rr)"
   ],
   "metadata": {
    "collapsed": false
   }
  },
  {
   "cell_type": "code",
   "execution_count": null,
   "outputs": [],
   "source": [
    "from sklearn.neural_network import MLPClassifier\n",
    "from sklearn.preprocessing import StandardScaler\n",
    "\n",
    "scaler = StandardScaler()\n",
    "scaler.fit(x_treinamento)\n",
    "\n",
    "x_treinamento = scaler.transform(x_treinamento)\n",
    "x_testes = scaler.transform(x_testes)\n",
    "\n",
    "m = (MLPClassifier(max_iter=300, hidden_layer_sizes=(50,1000), learning_rate_init=0.01))\n",
    "m.fit(x_treinamento, np.array(y_treinamento).ravel())\n",
    "y_predito = testar(m, x_testes)\n",
    "preditos = resultados_numericos(y_predito)\n",
    "testes_corretos = resultados_numericos(y_testes)\n",
    "estrelas_preditas = estrelas(preditos)\n",
    "estrelas_corretas = estrelas(testes_corretos)\n",
    "\n",
    "print('\\nMLPClassifier')\n",
    "ac_k = accuracy_score(estrelas_corretas, estrelas_preditas)\n",
    "print(\"Accuracy score =\", ac_k)\n"
   ],
   "metadata": {
    "collapsed": false
   }
  },
  {
   "cell_type": "code",
   "execution_count": 26,
   "outputs": [
    {
     "name": "stdout",
     "output_type": "stream",
     "text": [
      "MLPRegressor\n",
      "r2 = 0.5190654691031978 \n",
      "menan = 6.068557640260995\n"
     ]
    }
   ],
   "source": [
    "from sklearn.neural_network import MLPRegressor\n",
    "\n",
    "from sklearn.preprocessing import StandardScaler\n",
    "\n",
    "scaler = StandardScaler()\n",
    "scaler.fit(x_treinamento)\n",
    "\n",
    "x_treinamento = scaler.transform(x_treinamento)\n",
    "x_testes = scaler.transform(x_testes)\n",
    "m = (MLPRegressor(max_iter=100, learning_rate_init=0.01, hidden_layer_sizes=(100,)))\n",
    "\n",
    "y_predito = testar(m, x_testes)\n",
    "preditos = resultados_numericos(y_predito)\n",
    "testes_corretos = resultados_numericos(y_testes)\n",
    "r2_r = r2_score(testes_corretos, preditos)\n",
    "menan_r = mean_squared_error(testes_corretos, preditos, squared=False)\n",
    "print(\"MLPRegressor\")\n",
    "print(\"r2 =\", r2_r, \"\\nmenan =\", menan_r)"
   ],
   "metadata": {
    "collapsed": false,
    "ExecuteTime": {
     "end_time": "2023-06-26T16:05:26.790778587Z",
     "start_time": "2023-06-26T16:05:16.523971914Z"
    }
   }
  },
  {
   "cell_type": "code",
   "execution_count": null,
   "outputs": [],
   "source": [],
   "metadata": {
    "collapsed": false
   }
  }
 ],
 "metadata": {
  "kernelspec": {
   "display_name": "Python 3",
   "language": "python",
   "name": "python3"
  },
  "language_info": {
   "codemirror_mode": {
    "name": "ipython",
    "version": 2
   },
   "file_extension": ".py",
   "mimetype": "text/x-python",
   "name": "python",
   "nbconvert_exporter": "python",
   "pygments_lexer": "ipython2",
   "version": "2.7.6"
  }
 },
 "nbformat": 4,
 "nbformat_minor": 0
}
