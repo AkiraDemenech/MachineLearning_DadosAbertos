{
 "cells": [
  {
   "cell_type": "code",
   "execution_count": null,
   "metadata": {
    "collapsed": true
   },
   "outputs": [],
   "source": [
    "import glob\n",
    "import pandas as pd\n",
    "import matplotlib.pyplot as plt\n",
    "from sklearn.model_selection import train_test_split\n",
    "import numpy as np\n",
    "from sklearn.metrics import r2_score, mean_squared_error, accuracy_score, recall_score, f1_score, confusion_matrix, \\\n",
    "    precision_score\n",
    "from sklearn.neighbors import KNeighborsClassifier\n",
    "from sklearn.linear_model import LinearRegression\n",
    "from sklearn.ensemble import RandomForestClassifier\n"
   ]
  },
  {
   "cell_type": "code",
   "execution_count": null,
   "outputs": [],
   "source": [
    "path = './dados/dados_airbnb'\n",
    "all_files = glob.glob(path + \"/*.csv\")\n",
    "testes = []\n",
    "treinamento = []\n",
    "datasets = []\n",
    "for filename in all_files:\n",
    "    df = pd.read_csv(filename)\n",
    "    df['room_type'] = [1 if i == 'Private room' else 0.5 if i == 'Entire home/apt' else 0 for i in df['room_type']]\n",
    "    df['is_weekend'] = ['weekends' in filename] * len(df)\n",
    "    df['city'] = filename.split('/')[-1].split('\\\\')[-1].split('_')[0].upper()\n",
    "    tr, te = train_test_split(df)\n",
    "\n",
    "    treinamento.append(tr)\n",
    "    testes.append(te)\n",
    "\n",
    "    datasets.append(df)\n"
   ],
   "metadata": {
    "collapsed": false
   }
  },
  {
   "cell_type": "code",
   "execution_count": null,
   "outputs": [],
   "source": [
    "# explorando os dados verificamos que existe uma corelação entre a limpeza do local e se o host é super host. quanto mais limpo, maior a nota, superhost (grande parte das vezes) significa uma média maior de nota\n",
    "index = 16\n",
    "plt.scatter(datasets[index]['realSum'], datasets[index]['guest_satisfaction_overall'])\n",
    "plt.title(datasets[index]['city'][0] + ' ' + str(datasets[4]['is_weekend'][0]))"
   ],
   "metadata": {
    "collapsed": false
   }
  },
  {
   "cell_type": "code",
   "execution_count": null,
   "outputs": [],
   "source": [
    "todos_treinamento = pd.concat(treinamento, ignore_index=True)\n",
    "todos = pd.concat(datasets, ignore_index=True)\n",
    "todos_testes = pd.concat(testes, ignore_index=True)"
   ],
   "metadata": {
    "collapsed": false
   }
  },
  {
   "cell_type": "code",
   "execution_count": null,
   "outputs": [],
   "source": [
    "def separar(dados, y_col = ['guest_satisfaction_overall'], n_x_col = ['city', 'Unnamed: 0', 'attr_index', 'attr_index_norm', 'rest_index', 'rest_index_norm',]):\n",
    "\n",
    "   x_col = [col for col in dados if col not in y_col and col not in n_x_col]\n",
    "   x = []\n",
    "   y = []\n",
    "   for i in range(len(dados)):\n",
    "       x.append([dados[c][i] for c in x_col])\n",
    "       y.append([dados[c][i] for c in y_col])\n",
    "   return x,y"
   ],
   "metadata": {
    "collapsed": false
   }
  },
  {
   "cell_type": "code",
   "execution_count": null,
   "outputs": [],
   "source": [
    "def testar(modelo, x):\n",
    "    predito = []\n",
    "    for i in range(len(x)):\n",
    "        p = modelo.predict([x[i]])\n",
    "        predito.append(p)\n",
    "    return predito\n",
    "def resultados_numericos(lista):\n",
    "    return [i[-1][0] for i in lista]\n",
    "def estrelas(sats):\n",
    "    return [(i/20).__ceil__() for i in sats ]"
   ],
   "metadata": {
    "collapsed": false
   }
  },
  {
   "cell_type": "code",
   "execution_count": null,
   "outputs": [],
   "source": [
    "x_treinamento, y_treinamento = separar(todos_treinamento)\n",
    "x_testes, y_testes = separar(todos_testes)\n"
   ],
   "metadata": {
    "collapsed": false
   }
  },
  {
   "cell_type": "code",
   "execution_count": null,
   "outputs": [],
   "source": [
    "m = LinearRegression()\n",
    "m.fit(x_treinamento, y_treinamento)"
   ],
   "metadata": {
    "collapsed": false
   }
  },
  {
   "cell_type": "code",
   "execution_count": null,
   "outputs": [],
   "source": [
    "y_predito = testar(m, x_testes)\n",
    "preditos = resultados_numericos(y_predito)\n",
    "testes_corretos = [i[-1] for i in y_testes] #resultados_numericos(y_testes)\n",
    "\n",
    "estrelas_preditas = estrelas(preditos)\n",
    "estrelas_corretas = estrelas(testes_corretos)"
   ],
   "metadata": {
    "collapsed": false
   }
  },
  {
   "cell_type": "code",
   "execution_count": null,
   "outputs": [],
   "source": [
    "r2_r = r2_score(estrelas_corretas, estrelas_preditas)\n",
    "rsme_r = mean_squared_error(estrelas_corretas, estrelas_preditas)\n",
    "ac_r = accuracy_score(estrelas_corretas, estrelas_preditas)\n",
    "print(r2_r, rsme_r, ac_r)"
   ],
   "metadata": {
    "collapsed": false
   }
  },
  {
   "cell_type": "code",
   "execution_count": null,
   "outputs": [],
   "source": [
    "m = (KNeighborsClassifier())\n",
    "m.fit(x_treinamento, np.array(y_treinamento).ravel())"
   ],
   "metadata": {
    "collapsed": false
   }
  },
  {
   "cell_type": "code",
   "execution_count": null,
   "outputs": [],
   "source": [
    "y_predito = testar(m, x_testes)\n",
    "preditos = [i[-1] for i in y_predito] # resultados_numericos(y_predito)\n",
    "testes_corretos = [i[-1] for i in y_testes] #resultados_numericos(y_testes)\n",
    "estrelas_preditas = estrelas(preditos)\n",
    "estrelas_corretas = estrelas(testes_corretos)"
   ],
   "metadata": {
    "collapsed": false
   }
  },
  {
   "cell_type": "code",
   "execution_count": null,
   "outputs": [],
   "source": [
    "ac_k = accuracy_score(estrelas_corretas, estrelas_preditas)\n",
    "p_k = precision_score(estrelas_corretas, estrelas_preditas, average=\"micro\")\n",
    "r_k = recall_score(estrelas_corretas, estrelas_preditas, average=\"micro\")\n",
    "f1_k = f1_score(estrelas_corretas, estrelas_preditas, average=\"micro\")\n",
    "menan_k = mean_squared_error(estrelas_corretas, estrelas_preditas)\n",
    "print(ac_k, p_k, r_k, f1_k, menan_k)"
   ],
   "metadata": {
    "collapsed": false
   }
  },
  {
   "cell_type": "code",
   "execution_count": null,
   "outputs": [],
   "source": [
    "m = (RandomForestClassifier())\n",
    "m.fit(x_treinamento, np.array(y_treinamento).ravel())"
   ],
   "metadata": {
    "collapsed": false
   }
  },
  {
   "cell_type": "code",
   "execution_count": null,
   "outputs": [],
   "source": [
    "y_predito = testar(m, x_testes)\n",
    "preditos = [i[-1] for i in y_predito] # resultados_numericos(y_predito)\n",
    "testes_corretos = [i[-1] for i in y_testes] #resultados_numericos(y_testes)\n",
    "estrelas_preditas = estrelas(preditos)\n",
    "estrelas_corretas = estrelas(testes_corretos)"
   ],
   "metadata": {
    "collapsed": false
   }
  },
  {
   "cell_type": "code",
   "execution_count": null,
   "outputs": [],
   "source": [
    "ac_t = accuracy_score(estrelas_corretas, estrelas_preditas)\n",
    "p_t = precision_score(estrelas_corretas, estrelas_preditas, average=\"micro\")\n",
    "r_t = recall_score(estrelas_corretas, estrelas_preditas, average=\"micro\")\n",
    "f1_t = f1_score(estrelas_corretas, estrelas_preditas, average=\"micro\")\n",
    "menan_t = mean_squared_error(estrelas_corretas, estrelas_preditas)\n",
    "print(ac_t, p_t, r_t, f1_t, menan_t)"
   ],
   "metadata": {
    "collapsed": false
   }
  }
 ],
 "metadata": {
  "kernelspec": {
   "display_name": "Python 3",
   "language": "python",
   "name": "python3"
  },
  "language_info": {
   "codemirror_mode": {
    "name": "ipython",
    "version": 2
   },
   "file_extension": ".py",
   "mimetype": "text/x-python",
   "name": "python",
   "nbconvert_exporter": "python",
   "pygments_lexer": "ipython2",
   "version": "2.7.6"
  }
 },
 "nbformat": 4,
 "nbformat_minor": 0
}
